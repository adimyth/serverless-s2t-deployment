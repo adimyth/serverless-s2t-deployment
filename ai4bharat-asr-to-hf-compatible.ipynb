{
  "cells": [
    {
      "cell_type": "markdown",
      "id": "d518c6e4",
      "metadata": {},
      "source": [
        "# AI4Bharat ASR to HF Compatible Format\n",
        "\n",
        "The objective of this notebook is to convert the AI4Bharat ASR models to the Hugging Face compatible \"transformers\" format. This allows us to use transformer's \"automatic-speech-recognition\" pipeline to transcribe speech using the AI4Bharat models.\n",
        "\n",
        "This notebook focuses on converting the [indicwav2vec-kannada](https://github.com/AI4Bharat/IndicWav2Vec?tab=readme-ov-file#download-models) model to the Hugging Face compatible format. The same steps can be followed for other AI4Bharat ASR models.\n",
        "\n",
        "You can run this on Google Colab or any other environment with a GPU."
      ]
    },
    {
      "cell_type": "markdown",
      "id": "f511fa0b",
      "metadata": {
        "id": "f511fa0b"
      },
      "source": [
        "## Installation and Setup"
      ]
    },
    {
      "cell_type": "code",
      "execution_count": null,
      "id": "1a7a4211",
      "metadata": {
        "id": "1a7a4211"
      },
      "outputs": [],
      "source": [
        "! apt-get install build-essential libboost-all-dev cmake zlib1g-dev libbz2-dev liblzma-dev\n",
        "! add-apt-repository ppa:savoury1/ffmpeg4 -y && apt-get update && apt-get install ffmpeg"
      ]
    },
    {
      "cell_type": "code",
      "execution_count": null,
      "id": "f59VH15fy-RY",
      "metadata": {
        "id": "f59VH15fy-RY"
      },
      "outputs": [],
      "source": [
        "!apt install -y liblzma-dev libbz2-dev libzstd-dev libsndfile1-dev libopenblas-dev libfftw3-dev libgflags-dev libgoogle-glog-dev build-essential cmake libboost-system-dev libboost-thread-dev libboost-program-options-dev libboost-test-dev libeigen3-dev zlib1g-dev libbz2-dev liblzma-dev"
      ]
    },
    {
      "cell_type": "code",
      "execution_count": null,
      "id": "df4673b7",
      "metadata": {
        "collapsed": true,
        "id": "df4673b7"
      },
      "outputs": [],
      "source": [
        "! pip install transformers datasets pyctcdecode soundfile gradio;\n",
        "! pip install https://github.com/kpu/kenlm/archive/master.zip;"
      ]
    },
    {
      "cell_type": "code",
      "execution_count": null,
      "id": "bXTdRmRd3V8d",
      "metadata": {
        "colab": {
          "base_uri": "https://localhost:8080/"
        },
        "id": "bXTdRmRd3V8d",
        "outputId": "a26682f7-831d-4ac1-b965-f57fdbb1acc8"
      },
      "outputs": [],
      "source": [
        "%cd /content"
      ]
    },
    {
      "cell_type": "code",
      "execution_count": null,
      "id": "275c058e",
      "metadata": {
        "id": "275c058e"
      },
      "outputs": [],
      "source": [
        "!rm -rf IndicWav2Vec fairseq kenlm flashlight\n",
        "!git clone https://github.com/AI4Bharat/IndicWav2Vec.git\n",
        "!git clone https://github.com/pytorch/fairseq.git\n",
        "!git clone https://github.com/kpu/kenlm.git\n",
        "!git clone https://github.com/flashlight/flashlight.git"
      ]
    },
    {
      "cell_type": "markdown",
      "id": "FX-Nu04A4AN3",
      "metadata": {
        "id": "FX-Nu04A4AN3"
      },
      "source": [
        "Install packages"
      ]
    },
    {
      "cell_type": "code",
      "execution_count": null,
      "id": "HVQvOpdIAkg0",
      "metadata": {
        "colab": {
          "base_uri": "https://localhost:8080/",
          "height": 305
        },
        "id": "HVQvOpdIAkg0",
        "outputId": "a6c2288a-3332-4298-bf31-2b2139cbb0f0"
      },
      "outputs": [],
      "source": [
        "!pip install \"numpy<1.24\"\n",
        "!pip install transformers==4.29.2"
      ]
    },
    {
      "cell_type": "code",
      "execution_count": null,
      "id": "IyV5AGxo35q9",
      "metadata": {
        "colab": {
          "base_uri": "https://localhost:8080/"
        },
        "id": "IyV5AGxo35q9",
        "outputId": "945a4d13-4879-45cb-b1ec-ac50ce21c937"
      },
      "outputs": [],
      "source": [
        "%cd /content/IndicWav2Vec\n",
        "!pip install packaging soundfile swifter -r w2v_inference/requirements.txt\n",
        "%cd .."
      ]
    },
    {
      "cell_type": "markdown",
      "id": "qd8aoclv4BmK",
      "metadata": {
        "id": "qd8aoclv4BmK"
      },
      "source": [
        "Build fariseq"
      ]
    },
    {
      "cell_type": "code",
      "execution_count": null,
      "id": "DpYf76_H35tj",
      "metadata": {
        "colab": {
          "base_uri": "https://localhost:8080/",
          "height": 1000
        },
        "id": "DpYf76_H35tj",
        "outputId": "17cc2c3e-29d7-40ad-e56c-c2ccc7529144"
      },
      "outputs": [],
      "source": [
        "%cd /content/fairseq\n",
        "!git checkout cf8ff8c3c5242e6e71e8feb40de45dd699f3cc08\n",
        "!pip install ./\n",
        "%cd /content"
      ]
    },
    {
      "cell_type": "markdown",
      "id": "iOwWFjUs4DRw",
      "metadata": {
        "id": "iOwWFjUs4DRw"
      },
      "source": [
        "Build KenLM\n",
        "\n"
      ]
    },
    {
      "cell_type": "code",
      "execution_count": null,
      "id": "LQTj5XiA35v6",
      "metadata": {
        "colab": {
          "base_uri": "https://localhost:8080/"
        },
        "id": "LQTj5XiA35v6",
        "outputId": "383c4651-357f-4860-8659-eebdc5b9d25e"
      },
      "outputs": [],
      "source": [
        "%cd /content/kenlm\n",
        "!mkdir -p build\n",
        "%cd build\n",
        "!cmake ..\n",
        "!make -j 16\n",
        "%cd /content"
      ]
    },
    {
      "cell_type": "markdown",
      "id": "ViSPonZb4H1z",
      "metadata": {
        "id": "ViSPonZb4H1z"
      },
      "source": [
        "Build Flashlight"
      ]
    },
    {
      "cell_type": "code",
      "execution_count": null,
      "id": "HX56RO8435yA",
      "metadata": {
        "colab": {
          "base_uri": "https://localhost:8080/"
        },
        "id": "HX56RO8435yA",
        "outputId": "b0f82dbe-1920-450a-c3cd-4ea0794f91ed"
      },
      "outputs": [],
      "source": [
        "%cd /content/flashlight/bindings/python\n",
        "!git checkout 06ddb51857ab1780d793c52948a0759f0ccc6ddb\n",
        "!export USE_MKL=0 && export KENLM_ROOT=\"/content/kenlm/\" && python setup.py install\n",
        "%cd /content"
      ]
    },
    {
      "cell_type": "markdown",
      "id": "c920980b",
      "metadata": {
        "id": "c920980b"
      },
      "source": [
        "## Build Model"
      ]
    },
    {
      "cell_type": "markdown",
      "id": "452d4bd4",
      "metadata": {},
      "source": [
        "Download model"
      ]
    },
    {
      "cell_type": "code",
      "execution_count": null,
      "id": "c3d3c5b9",
      "metadata": {},
      "outputs": [],
      "source": [
        "!wget https://indic-asr-public.objectstore.e2enetworks.net/aaai_ckpts/models/ta/ta.pt -O /content/ta.pt"
      ]
    },
    {
      "cell_type": "markdown",
      "id": "6b3c5bbf",
      "metadata": {},
      "source": [
        "Load Model"
      ]
    },
    {
      "cell_type": "code",
      "execution_count": null,
      "id": "b76ec1df",
      "metadata": {},
      "outputs": [],
      "source": [
        "import torch\n",
        "\n",
        "DEVICE_ID = \"cuda\" if torch.cuda.is_available() else \"cpu\"\n",
        "MODEL_PATH = '/content/IndicWav2Vec/ta.pt'"
      ]
    },
    {
      "cell_type": "code",
      "execution_count": null,
      "id": "a0a6b876",
      "metadata": {},
      "outputs": [],
      "source": [
        "%cd /content/IndicWav2Vec\n",
        "\n",
        "from inference.support import load_model"
      ]
    },
    {
      "cell_type": "code",
      "execution_count": null,
      "id": "3a223615",
      "metadata": {},
      "outputs": [],
      "source": [
        "model, char_dict = load_model(MODEL_PATH)\n",
        "model.to(DEVICE_ID)\n",
        "%cd /content"
      ]
    },
    {
      "cell_type": "markdown",
      "id": "61O-Uw-zEchG",
      "metadata": {
        "id": "61O-Uw-zEchG"
      },
      "source": [
        "Install git-lfs"
      ]
    },
    {
      "cell_type": "code",
      "execution_count": null,
      "id": "CypJ5WDdETZc",
      "metadata": {
        "colab": {
          "base_uri": "https://localhost:8080/"
        },
        "id": "CypJ5WDdETZc",
        "outputId": "f27b7bbd-be69-463d-97fd-d4447b3b5408"
      },
      "outputs": [],
      "source": [
        "!curl -s https://packagecloud.io/install/repositories/github/git-lfs/script.deb.sh | bash\n",
        "!apt-get install git-lfs\n",
        "!git lfs install\n",
        "\n",
        "# Put in your details\n",
        "!git config --global user.email \"....\"\n",
        "!git config --global user.name \"....\""
      ]
    },
    {
      "cell_type": "markdown",
      "id": "Nw8pONYUEeVY",
      "metadata": {
        "id": "Nw8pONYUEeVY"
      },
      "source": [
        "Login to huggingface-hub"
      ]
    },
    {
      "cell_type": "code",
      "execution_count": null,
      "id": "7PUcFX61EbNa",
      "metadata": {
        "colab": {
          "base_uri": "https://localhost:8080/"
        },
        "id": "7PUcFX61EbNa",
        "outputId": "f5d87b0a-c5ac-462e-bfaf-50a948d18ca2"
      },
      "outputs": [],
      "source": [
        "!huggingface-cli login"
      ]
    },
    {
      "cell_type": "code",
      "execution_count": null,
      "id": "aiQ3Dn22TqgM",
      "metadata": {
        "id": "aiQ3Dn22TqgM"
      },
      "outputs": [],
      "source": [
        "from transformers import Wav2Vec2Config\n",
        "from huggingface_hub import create_repo, Repository\n",
        "\n",
        "from transformers import pipeline, AutoModelForCTC, Wav2Vec2Processor, Wav2Vec2ProcessorWithLM"
      ]
    },
    {
      "cell_type": "markdown",
      "id": "6b96f514",
      "metadata": {},
      "source": [
        "### Export models to HuggingFace"
      ]
    },
    {
      "cell_type": "markdown",
      "id": "Vk6VHD2qDJfy",
      "metadata": {
        "id": "Vk6VHD2qDJfy"
      },
      "source": [
        "Create and Initialize Repo"
      ]
    },
    {
      "cell_type": "code",
      "execution_count": null,
      "id": "V9CL4xLqDHkg",
      "metadata": {
        "colab": {
          "base_uri": "https://localhost:8080/",
          "height": 547
        },
        "id": "V9CL4xLqDHkg",
        "outputId": "2289ed1b-4bf5-49de-9c6c-6d064f664610"
      },
      "outputs": [],
      "source": [
        "repo_url = create_repo(\"indicwav2vec-tamil\", private=True)"
      ]
    },
    {
      "cell_type": "markdown",
      "id": "O90xuEiFHtRo",
      "metadata": {
        "id": "O90xuEiFHtRo"
      },
      "source": [
        "Save config.json from a \"similar\" architecture in huggingface"
      ]
    },
    {
      "cell_type": "code",
      "execution_count": null,
      "id": "F2-XWV-O_Pbo",
      "metadata": {
        "id": "F2-XWV-O_Pbo"
      },
      "outputs": [],
      "source": [
        "repo = Repository(local_dir=\"indicwav2vec-tamil\", clone_from=repo_url)"
      ]
    },
    {
      "cell_type": "code",
      "execution_count": null,
      "id": "zknkfbX8HlBy",
      "metadata": {
        "id": "zknkfbX8HlBy"
      },
      "outputs": [],
      "source": [
        "config = Wav2Vec2Config.from_pretrained('facebook/wav2vec2-large-960h-lv60-self')\n",
        "config.save_pretrained('indicwav2vec-tamil')"
      ]
    },
    {
      "cell_type": "code",
      "execution_count": null,
      "id": "aZGhr0T9_caw",
      "metadata": {
        "id": "aZGhr0T9_caw"
      },
      "outputs": [],
      "source": [
        "# using the indicwav2vec-hindi config.json for indicwav2vec-tamil\n",
        "import json\n",
        "\n",
        "data = {\n",
        "  \"_name_or_path\": \"facebook/wav2vec2-large-960h-lv60-self\",\n",
        "  \"activation_dropout\": 0.1,\n",
        "  \"adapter_kernel_size\": 3,\n",
        "  \"adapter_stride\": 2,\n",
        "  \"add_adapter\": False,\n",
        "  \"apply_spec_augment\": True,\n",
        "  \"architectures\": [\n",
        "    \"Wav2Vec2ForCTC\"\n",
        "  ],\n",
        "  \"attention_dropout\": 0.1,\n",
        "  \"bos_token_id\": 1,\n",
        "  \"classifier_proj_size\": 256,\n",
        "  \"codevector_dim\": 256,\n",
        "  \"contrastive_logits_temperature\": 0.1,\n",
        "  \"conv_bias\": True,\n",
        "  \"conv_dim\": [\n",
        "    512,\n",
        "    512,\n",
        "    512,\n",
        "    512,\n",
        "    512,\n",
        "    512,\n",
        "    512\n",
        "  ],\n",
        "  \"conv_kernel\": [\n",
        "    10,\n",
        "    3,\n",
        "    3,\n",
        "    3,\n",
        "    3,\n",
        "    2,\n",
        "    2\n",
        "  ],\n",
        "  \"conv_stride\": [\n",
        "    5,\n",
        "    2,\n",
        "    2,\n",
        "    2,\n",
        "    2,\n",
        "    2,\n",
        "    2\n",
        "  ],\n",
        "  \"ctc_loss_reduction\": \"sum\",\n",
        "  \"ctc_zero_infinity\": False,\n",
        "  \"diversity_loss_weight\": 0.1,\n",
        "  \"do_stable_layer_norm\": True,\n",
        "  \"eos_token_id\": 2,\n",
        "  \"feat_extract_activation\": \"gelu\",\n",
        "  \"feat_extract_dropout\": 0.0,\n",
        "  \"feat_extract_norm\": \"layer\",\n",
        "  \"feat_proj_dropout\": 0.1,\n",
        "  \"feat_quantizer_dropout\": 0.0,\n",
        "  \"final_dropout\": 0.1,\n",
        "  \"gradient_checkpointing\": False,\n",
        "  \"hidden_act\": \"gelu\",\n",
        "  \"hidden_dropout\": 0.1,\n",
        "  \"hidden_dropout_prob\": 0.1,\n",
        "  \"hidden_size\": 1024,\n",
        "  \"initializer_range\": 0.02,\n",
        "  \"intermediate_size\": 4096,\n",
        "  \"layer_norm_eps\": 1e-05,\n",
        "  \"layerdrop\": 0.1,\n",
        "  \"mask_feature_length\": 10,\n",
        "  \"mask_feature_min_masks\": 0,\n",
        "  \"mask_feature_prob\": 0.0,\n",
        "  \"mask_time_length\": 10,\n",
        "  \"mask_time_min_masks\": 2,\n",
        "  \"mask_time_prob\": 0.05,\n",
        "  \"model_type\": \"wav2vec2\",\n",
        "  \"num_adapter_layers\": 3,\n",
        "  \"num_attention_heads\": 16,\n",
        "  \"num_codevector_groups\": 2,\n",
        "  \"num_codevectors_per_group\": 320,\n",
        "  \"num_conv_pos_embedding_groups\": 16,\n",
        "  \"num_conv_pos_embeddings\": 128,\n",
        "  \"num_feat_extract_layers\": 7,\n",
        "  \"num_hidden_layers\": 24,\n",
        "  \"num_negatives\": 100,\n",
        "  \"output_hidden_size\": 1024,\n",
        "  \"pad_token_id\": 0,\n",
        "  \"proj_codevector_dim\": 256,\n",
        "  \"tdnn_dilation\": [\n",
        "    1,\n",
        "    2,\n",
        "    3,\n",
        "    1,\n",
        "    1\n",
        "  ],\n",
        "  \"tdnn_dim\": [\n",
        "    512,\n",
        "    512,\n",
        "    512,\n",
        "    512,\n",
        "    1500\n",
        "  ],\n",
        "  \"tdnn_kernel\": [\n",
        "    5,\n",
        "    3,\n",
        "    3,\n",
        "    1,\n",
        "    1\n",
        "  ],\n",
        "  \"torch_dtype\": \"float32\",\n",
        "  \"transformers_version\": \"4.19.2\",\n",
        "  \"use_weighted_layer_sum\": False,\n",
        "  \"vocab_size\": 68,\n",
        "  \"xvector_output_dim\": 512\n",
        "}\n",
        "\n",
        "with open('/content/config.json', 'w') as f:\n",
        "    json.dump(data, f, indent=2)"
      ]
    },
    {
      "cell_type": "code",
      "execution_count": null,
      "id": "ybj-kkOTAAlk",
      "metadata": {
        "colab": {
          "base_uri": "https://localhost:8080/"
        },
        "id": "ybj-kkOTAAlk",
        "outputId": "0d8ba930-5443-44f6-c6f1-67445d2c61d3"
      },
      "outputs": [],
      "source": [
        "# downloading the dictionary as per the github repo\n",
        "!wget https://indic-asr-public.objectstore.e2enetworks.net/aaai_ckpts/models/ta/dict.ltr.txt -O /content/dict.ltr.txt"
      ]
    },
    {
      "cell_type": "markdown",
      "id": "oFwGI_G6zbiB",
      "metadata": {
        "id": "oFwGI_G6zbiB"
      },
      "source": [
        "Convert ASR model to Huggingface's format"
      ]
    },
    {
      "cell_type": "code",
      "execution_count": null,
      "id": "IE_7PVPsEnVT",
      "metadata": {
        "colab": {
          "base_uri": "https://localhost:8080/",
          "height": 35
        },
        "id": "IE_7PVPsEnVT",
        "outputId": "040cb8f9-131d-46aa-8f3a-cc5c6306c18d"
      },
      "outputs": [],
      "source": [
        "import transformers\n",
        "\n",
        "transformers.__version__"
      ]
    },
    {
      "cell_type": "code",
      "execution_count": null,
      "id": "8e2e2612",
      "metadata": {
        "colab": {
          "base_uri": "https://localhost:8080/"
        },
        "id": "8e2e2612",
        "outputId": "1cf4ec0f-6e1e-4e16-861d-601f7962c1ce"
      },
      "outputs": [],
      "source": [
        "%cd \"/content/IndicWav2Vec\"\n",
        "!python workshop-2022/utils/convert_wav2vec2_original_pytorch_checkpoint_to_pytorch.py \\\n",
        "    --pytorch_dump_folder /content/IndicWav2Vec/indicwav2vec-tamil \\\n",
        "    --checkpoint_path /content/ta.pt \\\n",
        "    --config_path /content/config.json \\\n",
        "    --dict_path /content/dict.ltr.txt\n",
        "%cd /content"
      ]
    },
    {
      "cell_type": "markdown",
      "id": "g6DhfRGt3BCL",
      "metadata": {
        "id": "g6DhfRGt3BCL"
      },
      "source": [
        "Push to Huggingface Model Hub"
      ]
    },
    {
      "cell_type": "code",
      "execution_count": null,
      "id": "GeAhCcF-31Wg",
      "metadata": {
        "colab": {
          "base_uri": "https://localhost:8080/"
        },
        "id": "GeAhCcF-31Wg",
        "outputId": "b8a4743e-6ad1-44db-bec6-b30456c5d083"
      },
      "outputs": [],
      "source": [
        "%cd \"/content/IndicWav2Vec/indicwav2vec-tamil\"\n",
        "!huggingface-cli lfs-enable-largefiles .\n",
        "!git lfs track \"*.binary\"\n",
        "!git add .\n",
        "!git commit -m \"added language model\"\n",
        "!git push origin main\n",
        "%cd /content"
      ]
    }
  ],
  "metadata": {
    "accelerator": "GPU",
    "colab": {
      "provenance": []
    },
    "gpuClass": "standard",
    "kernelspec": {
      "display_name": "Python 3 (ipykernel)",
      "language": "python",
      "name": "python3"
    },
    "language_info": {
      "codemirror_mode": {
        "name": "ipython",
        "version": 3
      },
      "file_extension": ".py",
      "mimetype": "text/x-python",
      "name": "python",
      "nbconvert_exporter": "python",
      "pygments_lexer": "ipython3",
      "version": "3.9.12"
    },
    "vscode": {
      "interpreter": {
        "hash": "dfadc5c3dccc3fdd4ade829fe537ebc226dc9ee3485e5b880e2d3ccf90046cba"
      }
    }
  },
  "nbformat": 4,
  "nbformat_minor": 5
}
